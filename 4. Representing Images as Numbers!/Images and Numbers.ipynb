{
 "cells": [
  {
   "cell_type": "code",
   "execution_count": 1,
   "metadata": {},
   "outputs": [],
   "source": [
    "import cv2"
   ]
  },
  {
   "cell_type": "code",
   "execution_count": 7,
   "metadata": {},
   "outputs": [],
   "source": [
    "def main():\n",
    "    imgpath = \"F:\\\\Tutorilas and Codes\\\\Image Processing\\\\standard_test_images\\\\lena_color_256.tif\"\n",
    "    img = cv2.imread(imgpath)\n",
    "    \n",
    "    print(type(img)) #Output - <class 'nupy.ndarray'> , ndarray - N dimensional array.\n",
    "    \n",
    "    print(img.dtype) #Output - uint8. Unsigned Integers of 8 bits.\n",
    "    \n",
    "    print(img.shape) #resolution #Output (512, 512, 3) #3 is the number of channels (eg. Blue, Green, Red)\n",
    "    \n",
    "    print(img.ndim) #no of dimensions. (height, width, n of channels)\n",
    "                    # In case of greyscale or black & white image we have two dimensions namely height and width)\n",
    "    \n",
    "    print(img.size) # height*width*no of channels\n",
    "    \n",
    "    print(img)\n",
    "    "
   ]
  },
  {
   "cell_type": "code",
   "execution_count": 8,
   "metadata": {},
   "outputs": [
    {
     "name": "stdout",
     "output_type": "stream",
     "text": [
      "<class 'numpy.ndarray'>\n",
      "uint8\n",
      "(256, 256, 3)\n",
      "3\n",
      "196608\n",
      "[[[125 137 226]\n",
      "  [130 136 223]\n",
      "  [118 133 226]\n",
      "  ...\n",
      "  [127 145 230]\n",
      "  [122 148 232]\n",
      "  [100 114 210]]\n",
      "\n",
      " [[125 137 226]\n",
      "  [130 136 223]\n",
      "  [118 133 226]\n",
      "  ...\n",
      "  [127 145 230]\n",
      "  [122 148 232]\n",
      "  [100 114 210]]\n",
      "\n",
      " [[124 138 226]\n",
      "  [121 133 223]\n",
      "  [117 134 226]\n",
      "  ...\n",
      "  [118 133 222]\n",
      "  [108 125 217]\n",
      "  [ 90  87 182]]\n",
      "\n",
      " ...\n",
      "\n",
      " [[ 61  28  90]\n",
      "  [ 61  28  91]\n",
      "  [ 63  29  97]\n",
      "  ...\n",
      "  [ 71  53 140]\n",
      "  [ 73  62 158]\n",
      "  [ 74  59 161]]\n",
      "\n",
      " [[ 60  20  85]\n",
      "  [ 59  25  91]\n",
      "  [ 62  26  94]\n",
      "  ...\n",
      "  [ 82  64 153]\n",
      "  [ 81  69 172]\n",
      "  [ 78  65 170]]\n",
      "\n",
      " [[ 57  22  82]\n",
      "  [ 62  30  94]\n",
      "  [ 61  25  95]\n",
      "  ...\n",
      "  [ 84  71 167]\n",
      "  [ 78  68 178]\n",
      "  [ 81  72 183]]]\n"
     ]
    }
   ],
   "source": [
    "if __name__ == \"__main__\":\n",
    "    main()"
   ]
  },
  {
   "cell_type": "code",
   "execution_count": null,
   "metadata": {},
   "outputs": [],
   "source": []
  }
 ],
 "metadata": {
  "kernelspec": {
   "display_name": "Python 3",
   "language": "python",
   "name": "python3"
  },
  "language_info": {
   "codemirror_mode": {
    "name": "ipython",
    "version": 3
   },
   "file_extension": ".py",
   "mimetype": "text/x-python",
   "name": "python",
   "nbconvert_exporter": "python",
   "pygments_lexer": "ipython3",
   "version": "3.5.3"
  }
 },
 "nbformat": 4,
 "nbformat_minor": 2
}
