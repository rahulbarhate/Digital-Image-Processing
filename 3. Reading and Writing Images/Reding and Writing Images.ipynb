{
 "cells": [
  {
   "cell_type": "code",
   "execution_count": 1,
   "metadata": {},
   "outputs": [],
   "source": [
    "import cv2"
   ]
  },
  {
   "cell_type": "code",
   "execution_count": 7,
   "metadata": {},
   "outputs": [],
   "source": [
    "def main():\n",
    "    imgpath = \"F:\\\\Tutorilas and Codes\\\\Image Processing\\\\standard_test_images\\\\lena_color_256.tif\"\n",
    "    img = cv2.imread(imgpath, 1)\n",
    "    # 0 - The image is read in greyscale mode\n",
    "    # 1 - Load the image by preserving all the colour channels.\n",
    "    # -1 - Loads the image as it is but also saves the alpha transparency in the image.\n",
    "    \n",
    "    outputpath = \"F:\\\\Tutorilas and Codes\\\\Image Processing\\\\lena_color_256.jpg\"\n",
    "    cv2.imshow('Lena', img)\n",
    "    cv2.imwrite(outputpath, img)\n",
    "    cv2.waitKey(0)\n",
    "    cv2.destroyWindow('Lena')"
   ]
  },
  {
   "cell_type": "code",
   "execution_count": 8,
   "metadata": {},
   "outputs": [],
   "source": [
    "if __name__ == '__main__':\n",
    "    main()"
   ]
  },
  {
   "cell_type": "code",
   "execution_count": null,
   "metadata": {},
   "outputs": [],
   "source": []
  }
 ],
 "metadata": {
  "kernelspec": {
   "display_name": "Python 3",
   "language": "python",
   "name": "python3"
  },
  "language_info": {
   "codemirror_mode": {
    "name": "ipython",
    "version": 3
   },
   "file_extension": ".py",
   "mimetype": "text/x-python",
   "name": "python",
   "nbconvert_exporter": "python",
   "pygments_lexer": "ipython3",
   "version": "3.5.3"
  }
 },
 "nbformat": 4,
 "nbformat_minor": 2
}
